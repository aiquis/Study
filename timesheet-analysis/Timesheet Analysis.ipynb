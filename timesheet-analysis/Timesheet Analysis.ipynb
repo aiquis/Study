{
 "cells": [
  {
   "cell_type": "markdown",
   "metadata": {},
   "source": [
    "# Timesheet Analysis"
   ]
  },
  {
   "cell_type": "markdown",
   "metadata": {},
   "source": [
    "The goal of this notebook is to analyze my timesheet of working hours"
   ]
  },
  {
   "cell_type": "code",
   "execution_count": null,
   "metadata": {
    "collapsed": true
   },
   "outputs": [],
   "source": [
    "import gspread\n",
    "from oauth2client.service_account import ServiceAccountCredentials\n",
    "import pandas as pd"
   ]
  },
  {
   "cell_type": "code",
   "execution_count": 5,
   "metadata": {
    "collapsed": true
   },
   "outputs": [
    {
     "name": "stdout",
     "output_type": "stream",
     "text": [
      "           Data Hora Entrada Hora Saída                     Obs\n",
      "0    01/06/2016     08:15:00      19:37                        \n",
      "1    02/06/2016     08:26:00   17:31:00                        \n",
      "2    03/06/2016     08:08:00   21:31:00                        \n",
      "3    04/06/2016                                                \n",
      "4    05/06/2016                                                \n",
      "5    06/06/2016     09:31:00   17:50:00                        \n",
      "6    07/06/2016     07:59:00   19:00:00                        \n",
      "7    08/06/2016     09:57:00   17:21:00                        \n",
      "8    09/06/2016     09:32:00   17:42:00                        \n",
      "9    10/06/2016     08:42:00   19:42:00  Trabalhei de casa (BH)\n",
      "10   11/06/2016                                                \n",
      "11   12/06/2016                                                \n",
      "12   13/06/2016     08:46:00   17:02:00                        \n",
      "13   14/06/2016     10:08:00   19:10:00                        \n",
      "14   15/06/2016     09:47:00   19:09:00                        \n",
      "15   16/06/2016     08:46:00   17:21:00                        \n",
      "16   17/06/2016     09:34:00   19:23:00                        \n",
      "17   18/06/2016                                                \n",
      "18   19/06/2016                                                \n",
      "19   20/06/2016     09:46:00   18:07:00                        \n",
      "20   21/06/2016     09:55:00   19:55:00                        \n",
      "21   22/06/2016     09:34:00   17:13:00                        \n",
      "22   23/06/2016     09:48:00   17:10:00                        \n",
      "23   24/06/2016     09:35:00   20:19:00                        \n",
      "24   25/06/2016                                                \n",
      "25   26/06/2016                                                \n",
      "26   27/06/2016     09:38:00   18:45:00                        \n",
      "27   28/06/2016     09:27:00   19:48:00                        \n",
      "28   29/06/2016     09:20:00   19:52:00                        \n",
      "29   30/06/2016     10:13:00   19:02:00                        \n",
      "..          ...          ...        ...                     ...\n",
      "389  25/06/2017                                                \n",
      "390  26/06/2017     09:26:00   18:30:00       Concrete (Review)\n",
      "391  27/06/2017     10:00:00   18:30:00     Concrete (Planning)\n",
      "392  28/06/2017     09:47:00   20:17:00                        \n",
      "393  29/06/2017     10:01:00   19:57:00                        \n",
      "394  30/06/2017     10:17:00   20:49:00                        \n",
      "395  01/07/2017                                                \n",
      "396  02/07/2017                                                \n",
      "397  03/07/2017     09:00:00   19:15:00        Home Office (BH)\n",
      "398  04/07/2017     09:00:00   18:18:00        Home Office (BH)\n",
      "399  05/07/2017     11:00:00   19:10:00        Home Office (BH)\n",
      "400  06/07/2017     09:18:00   20:00:00        Home Office (BH)\n",
      "401  07/07/2017     09:00:00   19:40:00        Home Office (BH)\n",
      "402  08/07/2017                                                \n",
      "403  09/07/2017                                                \n",
      "404  10/07/2017     07:44:00   18:10:00                        \n",
      "405  11/07/2017                                                \n",
      "406  12/07/2017     09:43:00                                   \n",
      "407  13/07/2017     09:58:00   21:52:00                        \n",
      "408  14/07/2017     09:01:00   20:02:00                        \n",
      "409  15/07/2017                                                \n",
      "410  16/07/2017                                                \n",
      "411  17/07/2017     09:57:00   19:58:00                        \n",
      "412  18/07/2017     09:53:00   19:39:00                        \n",
      "413  19/07/2017     10:31:00   18:56:00                        \n",
      "414  20/07/2017     09:54:00   18:00:00                        \n",
      "415  21/07/2017     09:59:00   19:03:00                        \n",
      "416  22/07/2017     18:30:00                                   \n",
      "417  23/07/2017                                                \n",
      "418  24/07/2017                                                \n",
      "\n",
      "[419 rows x 4 columns]\n"
     ]
    }
   ],
   "source": [
    "# Connecting to Google Spreadsheet API and getting the desired spreadsheet\n",
    "\n",
    "scope = ['https://www.googleapis.com/auth/spreadsheets']\n",
    "creds = ServiceAccountCredentials.from_json_keyfile_name('/home/aiquis/EI/timesheet/client_secret.json', scope)\n",
    "client = gspread.authorize(creds)\n",
    "\n",
    "sheet = client.open(\"Controle de ponto - EI\").sheet1"
   ]
  },
  {
   "cell_type": "code",
   "execution_count": 17,
   "metadata": {
    "collapsed": false,
    "scrolled": true
   },
   "outputs": [
    {
     "name": "stdout",
     "output_type": "stream",
     "text": [
      "(419, 4)\n"
     ]
    }
   ],
   "source": [
    "# Storing the content of the spreadsheet on a DataFrame\n",
    "\n",
    "df = pd.DataFrame(sheet.get_all_records(), columns = ['Data', 'Hora Entrada', 'Hora Saída', 'Obs'])\n",
    "\n",
    "df.columns = ['data', 'hora_entrada', 'hora_saida', 'obs']"
   ]
  }
 ],
 "metadata": {
  "anaconda-cloud": {},
  "kernelspec": {
   "display_name": "Python [default]",
   "language": "python",
   "name": "python3"
  },
  "language_info": {
   "codemirror_mode": {
    "name": "ipython",
    "version": 3
   },
   "file_extension": ".py",
   "mimetype": "text/x-python",
   "name": "python",
   "nbconvert_exporter": "python",
   "pygments_lexer": "ipython3",
   "version": "3.5.2"
  }
 },
 "nbformat": 4,
 "nbformat_minor": 1
}
