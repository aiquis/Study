{
 "cells": [
  {
   "cell_type": "markdown",
   "metadata": {},
   "source": [
    "# Timesheet Analysis"
   ]
  },
  {
   "cell_type": "markdown",
   "metadata": {},
   "source": [
    "The goal of this notebook is to analyze my timesheet of working hours"
   ]
  },
  {
   "cell_type": "code",
   "execution_count": 1,
   "metadata": {
    "collapsed": true
   },
   "outputs": [],
   "source": [
    "import gspread\n",
    "from oauth2client.service_account import ServiceAccountCredentials\n",
    "import pandas as pd"
   ]
  },
  {
   "cell_type": "code",
   "execution_count": 2,
   "metadata": {
    "collapsed": true
   },
   "outputs": [],
   "source": [
    "# Connecting to Google Spreadsheet API and getting the desired spreadsheet\n",
    "\n",
    "scope = ['https://www.googleapis.com/auth/spreadsheets']\n",
    "creds = ServiceAccountCredentials.from_json_keyfile_name('/home/aiquis/EI/timesheet/client_secret.json', scope)\n",
    "client = gspread.authorize(creds)\n",
    "\n",
    "sheet = client.open(\"Controle de ponto - EI\").sheet1"
   ]
  },
  {
   "cell_type": "code",
   "execution_count": 3,
   "metadata": {
    "collapsed": true,
    "scrolled": true
   },
   "outputs": [],
   "source": [
    "# Storing the content of the spreadsheet on a DataFrame\n",
    "\n",
    "df = pd.DataFrame(sheet.get_all_records(), columns = ['Data', 'Hora Entrada', 'Hora Saída', 'Obs'])\n",
    "\n",
    "df.columns = ['data', 'hora_entrada', 'hora_saida', 'obs']"
   ]
  },
  {
   "cell_type": "code",
   "execution_count": null,
   "metadata": {
    "scrolled": true
   },
   "outputs": [],
   "source": [
    "# Casting columns data types\n",
    "\n",
    "df['data'] = pd.to_datetime(df['data'], errors='ignore', format=\"%d/%m/%Y\")\n",
    "df['hora_entrada'] = pd.to_timedelta(df.hora_entrada + ':00', errors='coerce')\n",
    "df['hora_saida']  = pd.to_timedelta(df.hora_saida + ':00' , errors='coerce')\n",
    "\n",
    "print(df.info())"
   ]
  }
 ],
 "metadata": {
  "anaconda-cloud": {},
  "kernelspec": {
   "display_name": "Python 3",
   "language": "python",
   "name": "python3"
  },
  "language_info": {
   "codemirror_mode": {
    "name": "ipython",
    "version": 3
   },
   "file_extension": ".py",
   "mimetype": "text/x-python",
   "name": "python",
   "nbconvert_exporter": "python",
   "pygments_lexer": "ipython3",
   "version": "3.6.1"
  }
 },
 "nbformat": 4,
 "nbformat_minor": 1
}
