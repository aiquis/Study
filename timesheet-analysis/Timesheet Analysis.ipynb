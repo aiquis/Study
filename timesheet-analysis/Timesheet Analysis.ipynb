{
 "cells": [
  {
   "cell_type": "markdown",
   "metadata": {},
   "source": [
    "# Timesheet Analysis"
   ]
  },
  {
   "cell_type": "markdown",
   "metadata": {},
   "source": [
    "The goal of this notebook is to analyze my timesheet of working hours. Things that I want to discover in this analysis:\n",
    "\n",
    "- How many extra hours I've did\n",
    "\n",
    "- What's the mean of extra hours by day/week/month\n",
    "\n",
    "- The days when I did most of the extra hours (excluding weekends)\n",
    "\n",
    "Future goals:\n",
    "\n",
    "- Predict how many extra hours I will do in a certain week/month"
   ]
  },
  {
   "cell_type": "code",
   "execution_count": 2,
   "metadata": {
    "collapsed": true
   },
   "outputs": [],
   "source": [
    "import gspread\n",
    "from oauth2client.service_account import ServiceAccountCredentials\n",
    "import pandas as pd"
   ]
  },
  {
   "cell_type": "code",
   "execution_count": 12,
   "metadata": {
    "collapsed": true
   },
   "outputs": [],
   "source": [
    "# Connecting to Google Spreadsheet API and getting the desired spreadsheet\n",
    "\n",
    "client_secret_path = '/home/aiquis/EI/timesheet/client_secret.json'\n",
    "sheet_name = \"Controle de ponto - EI\"\n",
    "\n",
    "scope = ['https://www.googleapis.com/auth/spreadsheets']\n",
    "creds = ServiceAccountCredentials.from_json_keyfile_name(client_secret_path, scope)\n",
    "client = gspread.authorize(creds)\n",
    "\n",
    "sheet = client.open(sheet_name).sheet1"
   ]
  },
  {
   "cell_type": "code",
   "execution_count": 13,
   "metadata": {
    "collapsed": true,
    "scrolled": true
   },
   "outputs": [],
   "source": [
    "# Storing the content of the spreadsheet on a DataFrame\n",
    "\n",
    "df = pd.DataFrame(sheet.get_all_records(), columns = ['Data', 'Hora Entrada', 'Hora Saída', 'Obs'])\n",
    "\n",
    "df.columns = ['data', 'hora_entrada', 'hora_saida', 'obs']"
   ]
  },
  {
   "cell_type": "code",
   "execution_count": null,
   "metadata": {
    "scrolled": false
   },
   "outputs": [],
   "source": [
    "# Casting columns data types\n",
    "\n",
    "df['data'] = pd.to_datetime(df['data'], errors='ignore', format=\"%d/%m/%Y\")\n",
    "df['hora_entrada'] = pd.to_timedelta(df.hora_entrada + ':00', errors='coerce')\n",
    "df['hora_saida']  = pd.to_timedelta(df.hora_saida + ':00' , errors='coerce')\n",
    "\n",
    "df.info()\n",
    "df.head()"
   ]
  },
  {
   "cell_type": "code",
   "execution_count": 16,
   "metadata": {},
   "outputs": [
    {
     "name": "stdout",
     "output_type": "stream",
     "text": [
      "<class 'pandas.core.frame.DataFrame'>\n",
      "DatetimeIndex: 281 entries, 2016-06-01 to 2017-08-11\n",
      "Data columns (total 3 columns):\n",
      "hora_entrada    281 non-null timedelta64[ns]\n",
      "hora_saida      281 non-null timedelta64[ns]\n",
      "obs             281 non-null object\n",
      "dtypes: object(1), timedelta64[ns](2)\n",
      "memory usage: 8.8+ KB\n"
     ]
    },
    {
     "data": {
      "text/html": [
       "<div>\n",
       "<style>\n",
       "    .dataframe thead tr:only-child th {\n",
       "        text-align: right;\n",
       "    }\n",
       "\n",
       "    .dataframe thead th {\n",
       "        text-align: left;\n",
       "    }\n",
       "\n",
       "    .dataframe tbody tr th {\n",
       "        vertical-align: top;\n",
       "    }\n",
       "</style>\n",
       "<table border=\"1\" class=\"dataframe\">\n",
       "  <thead>\n",
       "    <tr style=\"text-align: right;\">\n",
       "      <th></th>\n",
       "      <th>hora_entrada</th>\n",
       "      <th>hora_saida</th>\n",
       "      <th>obs</th>\n",
       "    </tr>\n",
       "    <tr>\n",
       "      <th>data</th>\n",
       "      <th></th>\n",
       "      <th></th>\n",
       "      <th></th>\n",
       "    </tr>\n",
       "  </thead>\n",
       "  <tbody>\n",
       "    <tr>\n",
       "      <th>2016-06-01</th>\n",
       "      <td>08:15:00</td>\n",
       "      <td>19:37:00</td>\n",
       "      <td></td>\n",
       "    </tr>\n",
       "    <tr>\n",
       "      <th>2016-06-02</th>\n",
       "      <td>08:26:00</td>\n",
       "      <td>17:31:00</td>\n",
       "      <td></td>\n",
       "    </tr>\n",
       "    <tr>\n",
       "      <th>2016-06-03</th>\n",
       "      <td>08:08:00</td>\n",
       "      <td>21:31:00</td>\n",
       "      <td></td>\n",
       "    </tr>\n",
       "    <tr>\n",
       "      <th>2016-06-06</th>\n",
       "      <td>09:31:00</td>\n",
       "      <td>17:50:00</td>\n",
       "      <td></td>\n",
       "    </tr>\n",
       "    <tr>\n",
       "      <th>2016-06-07</th>\n",
       "      <td>07:59:00</td>\n",
       "      <td>19:00:00</td>\n",
       "      <td></td>\n",
       "    </tr>\n",
       "  </tbody>\n",
       "</table>\n",
       "</div>"
      ],
      "text/plain": [
       "           hora_entrada hora_saida obs\n",
       "data                                  \n",
       "2016-06-01     08:15:00   19:37:00    \n",
       "2016-06-02     08:26:00   17:31:00    \n",
       "2016-06-03     08:08:00   21:31:00    \n",
       "2016-06-06     09:31:00   17:50:00    \n",
       "2016-06-07     07:59:00   19:00:00    "
      ]
     },
     "execution_count": 16,
     "metadata": {},
     "output_type": "execute_result"
    }
   ],
   "source": [
    "# Handling null (NaT) values on hour columns and setting column 'data' as the DataFrame index\n",
    "\n",
    "# Dropping NAs because they represent days that I didn't work, so, they're useless for analysis\n",
    "\n",
    "df = df.dropna(axis=0, how='any')\n",
    "\n",
    "df = df.set_index('data')\n",
    "\n",
    "df.info()\n",
    "df.head()"
   ]
  }
 ],
 "metadata": {
  "anaconda-cloud": {},
  "kernelspec": {
   "display_name": "Python 3",
   "language": "python",
   "name": "python3"
  },
  "language_info": {
   "codemirror_mode": {
    "name": "ipython",
    "version": 3
   },
   "file_extension": ".py",
   "mimetype": "text/x-python",
   "name": "python",
   "nbconvert_exporter": "python",
   "pygments_lexer": "ipython3",
   "version": "3.6.2"
  }
 },
 "nbformat": 4,
 "nbformat_minor": 1
}
