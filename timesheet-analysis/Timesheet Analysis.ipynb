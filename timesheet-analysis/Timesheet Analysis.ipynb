{
 "cells": [
  {
   "cell_type": "markdown",
   "metadata": {},
   "source": [
    "# Timesheet Analysis"
   ]
  },
  {
   "cell_type": "markdown",
   "metadata": {},
   "source": [
    "The goal of this notebook is to analyze my timesheet of working hours. Things that I want to discover in this analysis:\n",
    "\n",
    "- How many extra hours I have\n",
    "\n",
    "- What's the mean of extra hours by day/week/month\n",
    "\n",
    "- The days when I did most of the extra hours (excluding weekends)\n",
    "\n",
    "Future goals:\n",
    "\n",
    "- Predict how many extra hours I will do in a certain week/month\n",
    "\n",
    "Some important information about the analysis:\n",
    "\n",
    "- The date range begins on 09/15/2016 because that was the day when the timesheet became \"official\"\n",
    "\n",
    "- The workload for each day is 08h45m with 1h of lunch, so, 07h45 of work"
   ]
  },
  {
   "cell_type": "code",
   "execution_count": 20,
   "metadata": {},
   "outputs": [],
   "source": [
    "import gspread\n",
    "from oauth2client.service_account import ServiceAccountCredentials\n",
    "import pandas as pd\n",
    "import datetime"
   ]
  },
  {
   "cell_type": "code",
   "execution_count": 21,
   "metadata": {
    "collapsed": true
   },
   "outputs": [],
   "source": [
    "# Connecting to Google Spreadsheet API and getting the desired spreadsheet\n",
    "\n",
    "client_secret_path = '/home/aiquis/study/timesheet-analysis/client_secret.json'\n",
    "sheet_name = \"Controle de ponto - EI\"\n",
    "\n",
    "scope = ['https://www.googleapis.com/auth/spreadsheets']\n",
    "creds = ServiceAccountCredentials.from_json_keyfile_name(client_secret_path, scope)\n",
    "client = gspread.authorize(creds)\n",
    "\n",
    "sheet = client.open(sheet_name).sheet1"
   ]
  },
  {
   "cell_type": "code",
   "execution_count": 22,
   "metadata": {
    "collapsed": true,
    "scrolled": true
   },
   "outputs": [],
   "source": [
    "# Storing the content of the spreadsheet on a DataFrame\n",
    "\n",
    "df = pd.DataFrame(sheet.get_all_records(), columns = ['Data', 'Hora Entrada', 'Hora Saída', 'Obs'])\n",
    "\n",
    "df.columns = ['date', 'hour_in', 'hour_out', 'obs']"
   ]
  },
  {
   "cell_type": "code",
   "execution_count": null,
   "metadata": {
    "scrolled": false
   },
   "outputs": [],
   "source": [
    "# Casting columns data types\n",
    "\n",
    "df['date'] = pd.to_datetime(df['date'], errors='ignore', format=\"%d/%m/%Y\")\n",
    "df['hour_in'] = pd.to_timedelta(df.hour_in + ':00', errors='coerce')\n",
    "df['hour_out']  = pd.to_timedelta(df.hour_out + ':00' , errors='coerce')\n",
    "\n",
    "df.info()\n",
    "df.head()"
   ]
  },
  {
   "cell_type": "code",
   "execution_count": null,
   "metadata": {},
   "outputs": [],
   "source": [
    "# Handling null (NaT) values on hour columns and setting column 'data' as the DataFrame index\n",
    "\n",
    "# Dropping NAs because they represent days that I didn't work, so, they're useless for analysis\n",
    "\n",
    "df = df.dropna(axis=0, how='any')\n",
    "\n",
    "df = df.set_index('date')\n",
    "\n",
    "df.info()\n",
    "df.head()"
   ]
  },
  {
   "cell_type": "code",
   "execution_count": 25,
   "metadata": {},
   "outputs": [
    {
     "name": "stdout",
     "output_type": "stream",
     "text": [
      "<class 'pandas.core.frame.DataFrame'>\n",
      "DatetimeIndex: 286 entries, 2016-06-01 to 2017-08-18\n",
      "Data columns (total 6 columns):\n",
      "hour_in         286 non-null timedelta64[ns]\n",
      "hour_out        286 non-null timedelta64[ns]\n",
      "obs             286 non-null object\n",
      "week_day        286 non-null object\n",
      "worked_hours    286 non-null timedelta64[ns]\n",
      "extra_hours     286 non-null timedelta64[ns]\n",
      "dtypes: object(2), timedelta64[ns](4)\n",
      "memory usage: 15.6+ KB\n"
     ]
    },
    {
     "data": {
      "text/html": [
       "<div>\n",
       "<style>\n",
       "    .dataframe thead tr:only-child th {\n",
       "        text-align: right;\n",
       "    }\n",
       "\n",
       "    .dataframe thead th {\n",
       "        text-align: left;\n",
       "    }\n",
       "\n",
       "    .dataframe tbody tr th {\n",
       "        vertical-align: top;\n",
       "    }\n",
       "</style>\n",
       "<table border=\"1\" class=\"dataframe\">\n",
       "  <thead>\n",
       "    <tr style=\"text-align: right;\">\n",
       "      <th></th>\n",
       "      <th>hour_in</th>\n",
       "      <th>hour_out</th>\n",
       "      <th>obs</th>\n",
       "      <th>week_day</th>\n",
       "      <th>worked_hours</th>\n",
       "      <th>extra_hours</th>\n",
       "    </tr>\n",
       "    <tr>\n",
       "      <th>date</th>\n",
       "      <th></th>\n",
       "      <th></th>\n",
       "      <th></th>\n",
       "      <th></th>\n",
       "      <th></th>\n",
       "      <th></th>\n",
       "    </tr>\n",
       "  </thead>\n",
       "  <tbody>\n",
       "    <tr>\n",
       "      <th>2016-06-01</th>\n",
       "      <td>08:15:00</td>\n",
       "      <td>19:37:00</td>\n",
       "      <td></td>\n",
       "      <td>Wednesday</td>\n",
       "      <td>11:22:00</td>\n",
       "      <td>02:37:00</td>\n",
       "    </tr>\n",
       "    <tr>\n",
       "      <th>2016-06-02</th>\n",
       "      <td>08:26:00</td>\n",
       "      <td>17:31:00</td>\n",
       "      <td></td>\n",
       "      <td>Thursday</td>\n",
       "      <td>09:05:00</td>\n",
       "      <td>00:20:00</td>\n",
       "    </tr>\n",
       "    <tr>\n",
       "      <th>2016-06-03</th>\n",
       "      <td>08:08:00</td>\n",
       "      <td>21:31:00</td>\n",
       "      <td></td>\n",
       "      <td>Friday</td>\n",
       "      <td>13:23:00</td>\n",
       "      <td>04:38:00</td>\n",
       "    </tr>\n",
       "    <tr>\n",
       "      <th>2016-06-06</th>\n",
       "      <td>09:31:00</td>\n",
       "      <td>17:50:00</td>\n",
       "      <td></td>\n",
       "      <td>Monday</td>\n",
       "      <td>08:19:00</td>\n",
       "      <td>-1 days +23:34:00</td>\n",
       "    </tr>\n",
       "    <tr>\n",
       "      <th>2016-06-07</th>\n",
       "      <td>07:59:00</td>\n",
       "      <td>19:00:00</td>\n",
       "      <td></td>\n",
       "      <td>Tuesday</td>\n",
       "      <td>11:01:00</td>\n",
       "      <td>02:16:00</td>\n",
       "    </tr>\n",
       "  </tbody>\n",
       "</table>\n",
       "</div>"
      ],
      "text/plain": [
       "            hour_in hour_out obs   week_day worked_hours       extra_hours\n",
       "date                                                                      \n",
       "2016-06-01 08:15:00 19:37:00      Wednesday     11:22:00          02:37:00\n",
       "2016-06-02 08:26:00 17:31:00       Thursday     09:05:00          00:20:00\n",
       "2016-06-03 08:08:00 21:31:00         Friday     13:23:00          04:38:00\n",
       "2016-06-06 09:31:00 17:50:00         Monday     08:19:00 -1 days +23:34:00\n",
       "2016-06-07 07:59:00 19:00:00        Tuesday     11:01:00          02:16:00"
      ]
     },
     "execution_count": 25,
     "metadata": {},
     "output_type": "execute_result"
    }
   ],
   "source": [
    "carga_horaria = pd.to_timedelta('08:45:00')\n",
    "\n",
    "df['week_day'] = df.index.strftime('%A')\n",
    "\n",
    "df['worked_hours'] = df['hour_out'] - df['hour_in']\n",
    "\n",
    "df['extra_hours'] = df['worked_hours'] - carga_horaria\n",
    "\n",
    "df.info()\n",
    "df.head()"
   ]
  },
  {
   "cell_type": "markdown",
   "metadata": {},
   "source": [
    "Next problems to solve:\n",
    "\n",
    "- Column horas_extras show an unexpect value (but correct) when the result is negative. Format to show only negative hours\n",
    "\n",
    "- Consider all hours done on weekends and holidays as extra hours\n",
    "\n",
    "- Consider different weights for the hours depending on the day"
   ]
  }
 ],
 "metadata": {
  "anaconda-cloud": {},
  "kernelspec": {
   "display_name": "Python 3",
   "language": "python",
   "name": "python3"
  },
  "language_info": {
   "codemirror_mode": {
    "name": "ipython",
    "version": 3
   },
   "file_extension": ".py",
   "mimetype": "text/x-python",
   "name": "python",
   "nbconvert_exporter": "python",
   "pygments_lexer": "ipython3",
   "version": "3.6.1"
  }
 },
 "nbformat": 4,
 "nbformat_minor": 1
}
