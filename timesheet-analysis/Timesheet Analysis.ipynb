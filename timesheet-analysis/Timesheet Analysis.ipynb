{
 "cells": [
  {
   "cell_type": "markdown",
   "metadata": {},
   "source": [
    "# Timesheet Analysis"
   ]
  },
  {
   "cell_type": "markdown",
   "metadata": {},
   "source": [
    "The goal of this notebook is to analyze my timesheet of working hours. Things that I want to discover in this analysis:\n",
    "\n",
    "- How many extra hours I have\n",
    "\n",
    "- What's the mean of extra hours by day/week/month\n",
    "\n",
    "- The days when I did most of the extra hours (excluding weekends)\n",
    "\n",
    "Future goals:\n",
    "\n",
    "- Predict how many extra hours I will do in a certain week/month\n",
    "\n",
    "Some important information about the analysis:\n",
    "\n",
    "- The date range begins on 09/15/2016 because that was the day when the timesheet became \"official\"\n",
    "\n",
    "- The workload for each day is 08h45m with 1h of lunch, so, 07h45 of work"
   ]
  },
  {
   "cell_type": "code",
   "execution_count": 1,
   "metadata": {},
   "outputs": [
    {
     "ename": "ModuleNotFoundError",
     "evalue": "No module named 'gspread'",
     "output_type": "error",
     "traceback": [
      "\u001b[0;31m---------------------------------------------------------------------------\u001b[0m",
      "\u001b[0;31mModuleNotFoundError\u001b[0m                       Traceback (most recent call last)",
      "\u001b[0;32m<ipython-input-1-4cf5aaacf618>\u001b[0m in \u001b[0;36m<module>\u001b[0;34m()\u001b[0m\n\u001b[0;32m----> 1\u001b[0;31m \u001b[0;32mimport\u001b[0m \u001b[0mgspread\u001b[0m\u001b[0;34m\u001b[0m\u001b[0m\n\u001b[0m\u001b[1;32m      2\u001b[0m \u001b[0;32mfrom\u001b[0m \u001b[0moauth2client\u001b[0m\u001b[0;34m.\u001b[0m\u001b[0mservice_account\u001b[0m \u001b[0;32mimport\u001b[0m \u001b[0mServiceAccountCredentials\u001b[0m\u001b[0;34m\u001b[0m\u001b[0m\n\u001b[1;32m      3\u001b[0m \u001b[0;32mimport\u001b[0m \u001b[0mpandas\u001b[0m \u001b[0;32mas\u001b[0m \u001b[0mpd\u001b[0m\u001b[0;34m\u001b[0m\u001b[0m\n\u001b[1;32m      4\u001b[0m \u001b[0;32mfrom\u001b[0m \u001b[0mdatetime\u001b[0m \u001b[0;32mimport\u001b[0m \u001b[0mdatetime\u001b[0m\u001b[0;34m\u001b[0m\u001b[0m\n",
      "\u001b[0;31mModuleNotFoundError\u001b[0m: No module named 'gspread'"
     ]
    }
   ],
   "source": [
    "import gspread\n",
    "from oauth2client.service_account import ServiceAccountCredentials\n",
    "import pandas as pd\n",
    "from datetime import datetime"
   ]
  },
  {
   "cell_type": "code",
   "execution_count": 3,
   "metadata": {
    "collapsed": true
   },
   "outputs": [],
   "source": [
    "# Connecting to Google Spreadsheet API and getting the desired spreadsheet\n",
    "\n",
    "client_secret_path = '/home/aiquis/study/timesheet-analysis/client_secret.json'\n",
    "sheet_name = \"Controle de ponto - EI\"\n",
    "\n",
    "scope = ['https://www.googleapis.com/auth/spreadsheets']\n",
    "creds = ServiceAccountCredentials.from_json_keyfile_name(client_secret_path, scope)\n",
    "client = gspread.authorize(creds)\n",
    "\n",
    "sheet = client.open(sheet_name).sheet1"
   ]
  },
  {
   "cell_type": "code",
   "execution_count": 4,
   "metadata": {
    "collapsed": true,
    "scrolled": true
   },
   "outputs": [],
   "source": [
    "# Storing the content of the spreadsheet on a DataFrame\n",
    "\n",
    "df = pd.DataFrame(sheet.get_all_records(), columns = ['Data', 'Hora Entrada', 'Hora Saída', 'Obs'])\n",
    "\n",
    "df.columns = ['date', 'hour_in', 'hour_out', 'obs']"
   ]
  },
  {
   "cell_type": "code",
   "execution_count": 5,
   "metadata": {
    "scrolled": false
   },
   "outputs": [
    {
     "name": "stdout",
     "output_type": "stream",
     "text": [
      "<class 'pandas.core.frame.DataFrame'>\n",
      "RangeIndex: 439 entries, 0 to 438\n",
      "Data columns (total 4 columns):\n",
      "data            439 non-null datetime64[ns]\n",
      "hora_entrada    285 non-null timedelta64[ns]\n",
      "hora_saida      284 non-null timedelta64[ns]\n",
      "obs             439 non-null object\n",
      "dtypes: datetime64[ns](1), object(1), timedelta64[ns](2)\n",
      "memory usage: 13.8+ KB\n"
     ]
    },
    {
     "data": {
      "text/html": [
       "<div>\n",
       "<style>\n",
       "    .dataframe thead tr:only-child th {\n",
       "        text-align: right;\n",
       "    }\n",
       "\n",
       "    .dataframe thead th {\n",
       "        text-align: left;\n",
       "    }\n",
       "\n",
       "    .dataframe tbody tr th {\n",
       "        vertical-align: top;\n",
       "    }\n",
       "</style>\n",
       "<table border=\"1\" class=\"dataframe\">\n",
       "  <thead>\n",
       "    <tr style=\"text-align: right;\">\n",
       "      <th></th>\n",
       "      <th>data</th>\n",
       "      <th>hora_entrada</th>\n",
       "      <th>hora_saida</th>\n",
       "      <th>obs</th>\n",
       "    </tr>\n",
       "  </thead>\n",
       "  <tbody>\n",
       "    <tr>\n",
       "      <th>0</th>\n",
       "      <td>2016-06-01</td>\n",
       "      <td>08:15:00</td>\n",
       "      <td>19:37:00</td>\n",
       "      <td></td>\n",
       "    </tr>\n",
       "    <tr>\n",
       "      <th>1</th>\n",
       "      <td>2016-06-02</td>\n",
       "      <td>08:26:00</td>\n",
       "      <td>17:31:00</td>\n",
       "      <td></td>\n",
       "    </tr>\n",
       "    <tr>\n",
       "      <th>2</th>\n",
       "      <td>2016-06-03</td>\n",
       "      <td>08:08:00</td>\n",
       "      <td>21:31:00</td>\n",
       "      <td></td>\n",
       "    </tr>\n",
       "    <tr>\n",
       "      <th>3</th>\n",
       "      <td>2016-06-04</td>\n",
       "      <td>NaT</td>\n",
       "      <td>NaT</td>\n",
       "      <td></td>\n",
       "    </tr>\n",
       "    <tr>\n",
       "      <th>4</th>\n",
       "      <td>2016-06-05</td>\n",
       "      <td>NaT</td>\n",
       "      <td>NaT</td>\n",
       "      <td></td>\n",
       "    </tr>\n",
       "  </tbody>\n",
       "</table>\n",
       "</div>"
      ],
      "text/plain": [
       "        data hora_entrada hora_saida obs\n",
       "0 2016-06-01     08:15:00   19:37:00    \n",
       "1 2016-06-02     08:26:00   17:31:00    \n",
       "2 2016-06-03     08:08:00   21:31:00    \n",
       "3 2016-06-04          NaT        NaT    \n",
       "4 2016-06-05          NaT        NaT    "
      ]
     },
     "execution_count": 5,
     "metadata": {},
     "output_type": "execute_result"
    }
   ],
   "source": [
    "# Casting columns data types\n",
    "\n",
    "df['date'] = pd.to_datetime(df['date'], errors='ignore', format=\"%d/%m/%Y\")\n",
    "df['hour_in'] = pd.to_timedelta(df.hour_in + ':00', errors='coerce')\n",
    "df['hour_out']  = pd.to_timedelta(df.hour_out + ':00' , errors='coerce')\n",
    "\n",
    "df.info()\n",
    "df.head()"
   ]
  },
  {
   "cell_type": "code",
   "execution_count": 6,
   "metadata": {},
   "outputs": [
    {
     "name": "stdout",
     "output_type": "stream",
     "text": [
      "<class 'pandas.core.frame.DataFrame'>\n",
      "DatetimeIndex: 281 entries, 2016-06-01 to 2017-08-11\n",
      "Data columns (total 3 columns):\n",
      "hora_entrada    281 non-null timedelta64[ns]\n",
      "hora_saida      281 non-null timedelta64[ns]\n",
      "obs             281 non-null object\n",
      "dtypes: object(1), timedelta64[ns](2)\n",
      "memory usage: 8.8+ KB\n"
     ]
    },
    {
     "data": {
      "text/html": [
       "<div>\n",
       "<style>\n",
       "    .dataframe thead tr:only-child th {\n",
       "        text-align: right;\n",
       "    }\n",
       "\n",
       "    .dataframe thead th {\n",
       "        text-align: left;\n",
       "    }\n",
       "\n",
       "    .dataframe tbody tr th {\n",
       "        vertical-align: top;\n",
       "    }\n",
       "</style>\n",
       "<table border=\"1\" class=\"dataframe\">\n",
       "  <thead>\n",
       "    <tr style=\"text-align: right;\">\n",
       "      <th></th>\n",
       "      <th>hora_entrada</th>\n",
       "      <th>hora_saida</th>\n",
       "      <th>obs</th>\n",
       "    </tr>\n",
       "    <tr>\n",
       "      <th>data</th>\n",
       "      <th></th>\n",
       "      <th></th>\n",
       "      <th></th>\n",
       "    </tr>\n",
       "  </thead>\n",
       "  <tbody>\n",
       "    <tr>\n",
       "      <th>2016-06-01</th>\n",
       "      <td>08:15:00</td>\n",
       "      <td>19:37:00</td>\n",
       "      <td></td>\n",
       "    </tr>\n",
       "    <tr>\n",
       "      <th>2016-06-02</th>\n",
       "      <td>08:26:00</td>\n",
       "      <td>17:31:00</td>\n",
       "      <td></td>\n",
       "    </tr>\n",
       "    <tr>\n",
       "      <th>2016-06-03</th>\n",
       "      <td>08:08:00</td>\n",
       "      <td>21:31:00</td>\n",
       "      <td></td>\n",
       "    </tr>\n",
       "    <tr>\n",
       "      <th>2016-06-06</th>\n",
       "      <td>09:31:00</td>\n",
       "      <td>17:50:00</td>\n",
       "      <td></td>\n",
       "    </tr>\n",
       "    <tr>\n",
       "      <th>2016-06-07</th>\n",
       "      <td>07:59:00</td>\n",
       "      <td>19:00:00</td>\n",
       "      <td></td>\n",
       "    </tr>\n",
       "  </tbody>\n",
       "</table>\n",
       "</div>"
      ],
      "text/plain": [
       "           hora_entrada hora_saida obs\n",
       "data                                  \n",
       "2016-06-01     08:15:00   19:37:00    \n",
       "2016-06-02     08:26:00   17:31:00    \n",
       "2016-06-03     08:08:00   21:31:00    \n",
       "2016-06-06     09:31:00   17:50:00    \n",
       "2016-06-07     07:59:00   19:00:00    "
      ]
     },
     "execution_count": 6,
     "metadata": {},
     "output_type": "execute_result"
    }
   ],
   "source": [
    "# Handling null (NaT) values on hour columns and setting column 'data' as the DataFrame index\n",
    "\n",
    "# Dropping NAs because they represent days that I didn't work, so, they're useless for analysis\n",
    "\n",
    "df = df.dropna(axis=0, how='any')\n",
    "\n",
    "df = df.set_index('date')\n",
    "\n",
    "df.info()\n",
    "df.head()"
   ]
  },
  {
   "cell_type": "code",
   "execution_count": 30,
   "metadata": {},
   "outputs": [
    {
     "name": "stdout",
     "output_type": "stream",
     "text": [
      "<class 'pandas.core.frame.DataFrame'>\n",
      "DatetimeIndex: 281 entries, 2016-06-01 to 2017-08-11\n",
      "Data columns (total 6 columns):\n",
      "hora_entrada         281 non-null timedelta64[ns]\n",
      "hora_saida           281 non-null timedelta64[ns]\n",
      "obs                  281 non-null object\n",
      "horas_trabalhadas    281 non-null timedelta64[ns]\n",
      "horas_extras         281 non-null timedelta64[ns]\n",
      "dia_semana           281 non-null object\n",
      "dtypes: object(2), timedelta64[ns](4)\n",
      "memory usage: 15.4+ KB\n"
     ]
    },
    {
     "data": {
      "text/html": [
       "<div>\n",
       "<style>\n",
       "    .dataframe thead tr:only-child th {\n",
       "        text-align: right;\n",
       "    }\n",
       "\n",
       "    .dataframe thead th {\n",
       "        text-align: left;\n",
       "    }\n",
       "\n",
       "    .dataframe tbody tr th {\n",
       "        vertical-align: top;\n",
       "    }\n",
       "</style>\n",
       "<table border=\"1\" class=\"dataframe\">\n",
       "  <thead>\n",
       "    <tr style=\"text-align: right;\">\n",
       "      <th></th>\n",
       "      <th>hora_entrada</th>\n",
       "      <th>hora_saida</th>\n",
       "      <th>obs</th>\n",
       "      <th>horas_trabalhadas</th>\n",
       "      <th>horas_extras</th>\n",
       "      <th>dia_semana</th>\n",
       "    </tr>\n",
       "    <tr>\n",
       "      <th>data</th>\n",
       "      <th></th>\n",
       "      <th></th>\n",
       "      <th></th>\n",
       "      <th></th>\n",
       "      <th></th>\n",
       "      <th></th>\n",
       "    </tr>\n",
       "  </thead>\n",
       "  <tbody>\n",
       "    <tr>\n",
       "      <th>2016-06-01</th>\n",
       "      <td>08:15:00</td>\n",
       "      <td>19:37:00</td>\n",
       "      <td></td>\n",
       "      <td>11:22:00</td>\n",
       "      <td>02:37:00</td>\n",
       "      <td>Wednesday</td>\n",
       "    </tr>\n",
       "    <tr>\n",
       "      <th>2016-06-02</th>\n",
       "      <td>08:26:00</td>\n",
       "      <td>17:31:00</td>\n",
       "      <td></td>\n",
       "      <td>09:05:00</td>\n",
       "      <td>00:20:00</td>\n",
       "      <td>Thursday</td>\n",
       "    </tr>\n",
       "    <tr>\n",
       "      <th>2016-06-03</th>\n",
       "      <td>08:08:00</td>\n",
       "      <td>21:31:00</td>\n",
       "      <td></td>\n",
       "      <td>13:23:00</td>\n",
       "      <td>04:38:00</td>\n",
       "      <td>Friday</td>\n",
       "    </tr>\n",
       "    <tr>\n",
       "      <th>2016-06-06</th>\n",
       "      <td>09:31:00</td>\n",
       "      <td>17:50:00</td>\n",
       "      <td></td>\n",
       "      <td>08:19:00</td>\n",
       "      <td>-1 days +23:34:00</td>\n",
       "      <td>Monday</td>\n",
       "    </tr>\n",
       "    <tr>\n",
       "      <th>2016-06-07</th>\n",
       "      <td>07:59:00</td>\n",
       "      <td>19:00:00</td>\n",
       "      <td></td>\n",
       "      <td>11:01:00</td>\n",
       "      <td>02:16:00</td>\n",
       "      <td>Tuesday</td>\n",
       "    </tr>\n",
       "  </tbody>\n",
       "</table>\n",
       "</div>"
      ],
      "text/plain": [
       "           hora_entrada hora_saida obs horas_trabalhadas      horas_extras  \\\n",
       "data                                                                         \n",
       "2016-06-01     08:15:00   19:37:00              11:22:00          02:37:00   \n",
       "2016-06-02     08:26:00   17:31:00              09:05:00          00:20:00   \n",
       "2016-06-03     08:08:00   21:31:00              13:23:00          04:38:00   \n",
       "2016-06-06     09:31:00   17:50:00              08:19:00 -1 days +23:34:00   \n",
       "2016-06-07     07:59:00   19:00:00              11:01:00          02:16:00   \n",
       "\n",
       "           dia_semana  \n",
       "data                   \n",
       "2016-06-01  Wednesday  \n",
       "2016-06-02   Thursday  \n",
       "2016-06-03     Friday  \n",
       "2016-06-06     Monday  \n",
       "2016-06-07    Tuesday  "
      ]
     },
     "execution_count": 30,
     "metadata": {},
     "output_type": "execute_result"
    }
   ],
   "source": [
    "carga_horaria = pd.to_timedelta('08:45:00')\n",
    "\n",
    "df['week_day'] = df.index.strftime('%A')\n",
    "\n",
    "df['worked_hours'] = df['hour_out'] - df['hour_in']\n",
    "\n",
    "df['extra_hours'] = df['worked_hours'] - carga_horaria\n",
    "\n",
    "df.info()\n",
    "df.head()"
   ]
  },
  {
   "cell_type": "markdown",
   "metadata": {},
   "source": [
    "Next problems to solve:\n",
    "\n",
    "- Column horas_extras show an unexpect value (but correct) when the result is negative. Format to show only negative hours\n",
    "\n",
    "- Consider all hours done on weekends and holidays as extra hours\n",
    "\n",
    "- Consider different weights for the hours depending on the day"
   ]
  },
  {
   "cell_type": "code",
   "execution_count": null,
   "metadata": {
    "collapsed": true
   },
   "outputs": [],
   "source": []
  }
 ],
 "metadata": {
  "anaconda-cloud": {},
  "kernelspec": {
   "display_name": "Python 3",
   "language": "python",
   "name": "python3"
  },
  "language_info": {
   "codemirror_mode": {
    "name": "ipython",
    "version": 3
   },
   "file_extension": ".py",
   "mimetype": "text/x-python",
   "name": "python",
   "nbconvert_exporter": "python",
   "pygments_lexer": "ipython3",
   "version": "3.6.1"
  }
 },
 "nbformat": 4,
 "nbformat_minor": 1
}
