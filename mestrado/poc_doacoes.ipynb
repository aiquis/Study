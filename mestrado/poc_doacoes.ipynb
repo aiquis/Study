{
 "cells": [
  {
   "cell_type": "markdown",
   "metadata": {},
   "source": [
    "# POC Projeto de Dissertação\n",
    "\n",
    "## Sistema para checagem de doações de campanhas eleitorais por pessoas físicas e suas relações com empresas"
   ]
  },
  {
   "cell_type": "markdown",
   "metadata": {},
   "source": [
    "**Objetivo**\n",
    "\n",
    "Essa POC (Proof of Concept) tem o objetivo de validar os datasets, APIs, ferramentas e ideias a serem utilizadas no projeto através de um escopo menor.\n",
    "\n",
    "**Candidato escolhido**: Geraldo Alckmin (PSDB)\n",
    "\n",
    "**Motivação**: é o pré-candidato a presidente mais consolidado (com chances de concorrer) entre os que se apresentaram até agora. PSDB sempre apresenta candidatos à presidência, governo dos estados e capitais, o que nos dá uma volume maior de dados de doações pra trabalhar, além de podemos usar dados de apoio de campanhas anteriores do Alckmin para prefeitura/governo de SP.\n",
    "\n",
    "**Eleições do Alckmin**\n",
    "\n",
    "- 2002 - Governo do estado de São Paulo (eleito no segundo turno)\n",
    "- 2006 - Presidência do Brasil (Derrotado no segundo turno)\n",
    "- 2008 - Prefeitura de São Paulo (Derrotado no primeiro turno)\n",
    "- 2010 - Governo do estado de São Paulo (eleito no primeiro turno)\n",
    "- 2014 - Governo do estado de São Paulo (eleito no primeiro turno)"
   ]
  },
  {
   "cell_type": "code",
   "execution_count": 2,
   "metadata": {},
   "outputs": [],
   "source": [
    "import pandas as pd\n",
    "import matplotlib.pyplot as plt"
   ]
  },
  {
   "cell_type": "code",
   "execution_count": 8,
   "metadata": {},
   "outputs": [
    {
     "name": "stdout",
     "output_type": "stream",
     "text": [
      "<class 'pandas.core.frame.DataFrame'>\n",
      "RangeIndex: 80876 entries, 0 to 80875\n",
      "Data columns (total 32 columns):\n",
      "Cód. Eleição                                   80876 non-null int64\n",
      "Desc. Eleição                                  80876 non-null object\n",
      "Data e hora                                    80876 non-null object\n",
      "CNPJ Prestador Conta                           80876 non-null int64\n",
      "Sequencial Candidato                           80876 non-null int64\n",
      "UF                                             80876 non-null object\n",
      "Sigla  Partido                                 80876 non-null object\n",
      "Numero candidato                               80876 non-null int64\n",
      "Cargo                                          80876 non-null object\n",
      "Nome candidato                                 80876 non-null object\n",
      "CPF do candidato                               80876 non-null int64\n",
      "Numero Recibo Eleitoral                        80507 non-null object\n",
      "Numero do documento                            26567 non-null object\n",
      "CPF/CNPJ do doador                             80747 non-null float64\n",
      "Nome do doador                                 80747 non-null object\n",
      "Nome do doador (Receita Federal)               80736 non-null object\n",
      "Sigla UE doador                                46316 non-null object\n",
      "Número partido doador                          46316 non-null float64\n",
      "Número candidato doador                        80876 non-null int64\n",
      "Cod setor econômico do doador                  48511 non-null float64\n",
      "Setor econômico do doador                      48511 non-null object\n",
      "Data da receita                                80876 non-null object\n",
      "Valor receita                                  80876 non-null object\n",
      "Tipo receita                                   80876 non-null object\n",
      "Fonte recurso                                  80876 non-null object\n",
      "Especie recurso                                80876 non-null object\n",
      "Descricao da receita                           53687 non-null object\n",
      "CPF/CNPJ do doador originário                  17559 non-null float64\n",
      "Nome do doador originário                      17565 non-null object\n",
      "Tipo doador originário                         17559 non-null object\n",
      "Setor econômico do doador originário           14447 non-null object\n",
      "Nome do doador originário (Receita Federal)    17554 non-null object\n",
      "dtypes: float64(4), int64(6), object(22)\n",
      "memory usage: 19.7+ MB\n"
     ]
    }
   ],
   "source": [
    "doacoes_candidato = pd.read_csv('/home/aiquis/Datasets/prestacao_contas_2014_sp/receitas_candidatos_2014_SP.txt',\n",
    "                                sep=';', encoding='latin_1',\n",
    "                                low_memory=True, na_values='#NULO')\n",
    "doacoes_candidato.head()\n",
    "doacoes_candidato.info()"
   ]
  },
  {
   "cell_type": "code",
   "execution_count": null,
   "metadata": {},
   "outputs": [],
   "source": []
  }
 ],
 "metadata": {
  "kernelspec": {
   "display_name": "Python 3",
   "language": "python",
   "name": "python3"
  },
  "language_info": {
   "codemirror_mode": {
    "name": "ipython",
    "version": 3
   },
   "file_extension": ".py",
   "mimetype": "text/x-python",
   "name": "python",
   "nbconvert_exporter": "python",
   "pygments_lexer": "ipython3",
   "version": "3.5.2"
  }
 },
 "nbformat": 4,
 "nbformat_minor": 2
}
