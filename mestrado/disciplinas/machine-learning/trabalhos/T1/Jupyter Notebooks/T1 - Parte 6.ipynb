{
 "cells": [
  {
   "cell_type": "markdown",
   "metadata": {},
   "source": [
    "# T1 - Parte 6\n",
    "\n",
    "## 6 - Viés-Variância\n",
    "\n",
    "### 6.1 - Curvas de aprendizado"
   ]
  },
  {
   "cell_type": "code",
   "execution_count": 2,
   "metadata": {},
   "outputs": [],
   "source": [
    "import numpy as np\n",
    "from scipy.optimize import minimize\n",
    "import matplotlib.pyplot as plt\n",
    "import scipy.io as spio\n",
    "\n",
    "\n",
    "def linearRegCostFunction(theta, X, y, lamb):\n",
    "    m = len(X)\n",
    "\n",
    "    custo = ((1 / (2 * m)) * np.sum((X.dot(theta) - y) ** 2) +\n",
    "             (lamb / (2 * m)) * np.sum(theta[1:]) ** 2)\n",
    "\n",
    "    return custo\n",
    "\n",
    "\n",
    "def linearRegGrad(theta, X, y, lamb):\n",
    "    m = len(y)\n",
    "\n",
    "    h = X.dot(theta)\n",
    "\n",
    "    loss = h - y\n",
    "\n",
    "    gradient = ((1 / m) * (X.T.dot(loss)) +\n",
    "                (lamb / m) * theta[1:])\n",
    "\n",
    "    return gradient\n",
    "\n",
    "\n",
    "def trainLinearReg(theta, X, y, lamb):\n",
    "    # initial_theta = np.zeros((X.shape[1],1))\n",
    "    # initial_theta = np.array([[15], [15]])\n",
    "\n",
    "    res = minimize(fun=linearRegCostFunction, x0=theta,\n",
    "                   args=(X, y, lamb), method=None, jac=linearRegGrad,\n",
    "                   options={'maxiter': 5000})\n",
    "\n",
    "    return(res.x)\n",
    "\n",
    "\n",
    "def learningCurve(X, y, Xval, yval, lamb):\n",
    "    m = len(y)\n",
    "\n",
    "    erro_train = np.zeros((m, 1))\n",
    "    erro_val = np.zeros((m, 1))\n",
    "\n",
    "    theta = np.zeros(2)\n",
    "\n",
    "    for i in range(m):\n",
    "        res = trainLinearReg(theta, X[:i + 1], y[:i + 1], lamb)\n",
    "        erro_train[i] = linearRegCostFunction(res, X[:i + 1],\n",
    "                                              y[:i + 1], lamb)\n",
    "        erro_val[i] = linearRegCostFunction(res, Xval, yval, lamb)\n",
    "\n",
    "    return(erro_train, erro_val)"
   ]
  },
  {
   "cell_type": "code",
   "execution_count": 3,
   "metadata": {},
   "outputs": [
    {
     "data": {
      "image/png": "[encoded data removed]",
      "text/plain": [
       "<Figure size 432x288 with 1 Axes>"
      ]
     },
     "metadata": {},
     "output_type": "display_data"
    }
   ],
   "source": [
    "mat = spio.loadmat('ex5data1.mat', squeeze_me=True)\n",
    "\n",
    "X = mat['X']\n",
    "y = mat['y']\n",
    "\n",
    "Xtest = mat['Xtest']\n",
    "ytest = mat['ytest']\n",
    "\n",
    "Xval = mat['Xval']\n",
    "yval = mat['yval']\n",
    "\n",
    "X_ones = np.c_[np.ones(X.shape[0]), X]\n",
    "Xval_ones = np.c_[np.ones(Xval.shape[0]), Xval]\n",
    "\n",
    "erro_treino, erro_validacao = learningCurve(X_ones, y, Xval_ones, yval, 0)\n",
    "\n",
    "plt.plot(np.arange(1, 13), erro_treino,\n",
    "         label='Train', color='purple')\n",
    "plt.plot(np.arange(1, 13), erro_validacao,\n",
    "         label='Cross Validation', color='green')\n",
    "plt.title('Learning curve for linear regression')\n",
    "plt.xlabel('Number of training examples')\n",
    "plt.ylabel('Error')\n",
    "plt.legend()\n",
    "plt.show()"
   ]
  }
 ],
 "metadata": {
  "kernelspec": {
   "display_name": "Python 3",
   "language": "python",
   "name": "python3"
  },
  "language_info": {
   "codemirror_mode": {
    "name": "ipython",
    "version": 3
   },
   "file_extension": ".py",
   "mimetype": "text/x-python",
   "name": "python",
   "nbconvert_exporter": "python",
   "pygments_lexer": "ipython3",
   "version": "3.6.4"
  }
 },
 "nbformat": 4,
 "nbformat_minor": 2
}
