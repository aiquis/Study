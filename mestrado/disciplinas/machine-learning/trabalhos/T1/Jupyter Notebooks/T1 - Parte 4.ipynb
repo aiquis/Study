{
 "cells": [
  {
   "cell_type": "markdown",
   "metadata": {},
   "source": [
    "# T1 - Parte 4\n",
    "\n",
    "## 4 - Regressão Logística com Regularização\n",
    "\n",
    "### 4.1 - Visualização dos Dados"
   ]
  },
  {
   "cell_type": "code",
   "execution_count": 2,
   "metadata": {},
   "outputs": [
    {
     "data": {
      "image/png": "[encoded data removed]",
      "text/plain": [
       "<Figure size 864x576 with 1 Axes>"
      ]
     },
     "metadata": {},
     "output_type": "display_data"
    }
   ],
   "source": [
    "import pandas as pd\n",
    "import matplotlib.pyplot as plt\n",
    "\n",
    "\n",
    "dataset = pd.read_csv(\"ex2data2.txt\", header=None,\n",
    "                      names=['teste1', 'teste2', 'resultado'])\n",
    "\n",
    "\n",
    "aprovado = dataset[dataset['resultado'].isin([1])]\n",
    "rejeitado = dataset[dataset['resultado'].isin([0])]\n",
    "\n",
    "fig, ax = plt.subplots(figsize=(12, 8))\n",
    "\n",
    "ax.scatter(aprovado['teste1'], aprovado['teste2'],\n",
    "           s=50, c='k', marker='+', label='y = 1')\n",
    "\n",
    "ax.scatter(rejeitado['teste1'], rejeitado['teste2'],\n",
    "           s=50, c='y', marker='o', label='y = 0')\n",
    "ax.legend()\n",
    "ax.set_xlabel('Microchip Test 1')\n",
    "ax.set_ylabel('Microchip Test 2')\n",
    "plt.show()"
   ]
  },
  {
   "cell_type": "markdown",
   "metadata": {},
   "source": [
    "### 4.2 - Mapeamento de características (feature mapping)"
   ]
  },
  {
   "cell_type": "code",
   "execution_count": 7,
   "metadata": {},
   "outputs": [
    {
     "data": {
      "text/plain": [
       "array([[ 1.00000000e+00,  5.12670000e-02,  6.99560000e-01, ...,\n",
       "         1.21245165e-07,  8.48182678e-08,  5.93354674e-08],\n",
       "       [ 1.00000000e+00, -9.27420000e-02,  6.84940000e-01, ...,\n",
       "        -2.20465113e-06, -1.51005374e-06, -1.03429621e-06],\n",
       "       [ 1.00000000e+00, -2.13710000e-01,  6.92250000e-01, ...,\n",
       "        -1.47881251e-04, -1.02370796e-04, -7.08661834e-05],\n",
       "       ...,\n",
       "       [ 1.00000000e+00, -4.84450000e-01,  9.99270000e-01, ...,\n",
       "        -2.66252288e-02, -2.66057924e-02, -2.65863702e-02],\n",
       "       [ 1.00000000e+00, -6.33640000e-03,  9.99270000e-01, ...,\n",
       "        -1.01920483e-11, -1.01846081e-11, -1.01771734e-11],\n",
       "       [ 1.00000000e+00,  6.32650000e-01, -3.06120000e-02, ...,\n",
       "        -2.90731893e-06,  8.89988470e-08, -2.72443271e-09]])"
      ]
     },
     "execution_count": 7,
     "metadata": {},
     "output_type": "execute_result"
    }
   ],
   "source": [
    "import pandas as pd\n",
    "import numpy as np\n",
    "\n",
    "def mapFeature(x):\n",
    "\n",
    "    registros = x.shape[0]\n",
    "\n",
    "    for i in range(1, 6):\n",
    "        for j in range(1, 6):\n",
    "            new_features = np.multiply(x[:, 1] ** i, x[:, 2] ** j)\n",
    "            new_features = np.reshape(new_features, (registros, 1))\n",
    "            x = np.concatenate((x, new_features), axis=1)\n",
    "\n",
    "    return x\n",
    "\n",
    "\n",
    "dataset = pd.read_csv(\"ex2data2.txt\", header=None,\n",
    "                      names=['teste1', 'teste2', 'resultado'])\n",
    "dataset.insert(0, 'Ones', 1)\n",
    "dataset = np.array(dataset)\n",
    "cols = dataset.shape[1]\n",
    "X = dataset[:, 0:cols - 1]\n",
    "\n",
    "\n",
    "new_x = mapFeature(X)\n",
    "new_x"
   ]
  },
  {
   "cell_type": "markdown",
   "metadata": {},
   "source": [
    "### 4.3 - Função de custo e gradiente"
   ]
  },
  {
   "cell_type": "code",
   "execution_count": 13,
   "metadata": {},
   "outputs": [
    {
     "name": "stdout",
     "output_type": "stream",
     "text": [
      "Custo para Lambda = 1: 0.6931471805599454\n",
      "Custo para Lambda = 0: 0.6931471805599454\n",
      "Custo para Lambda = 100: 0.6931471805599454\n"
     ]
    }
   ],
   "source": [
    "import pandas as pd\n",
    "import numpy as np\n",
    "import scipy.optimize as opt\n",
    "\n",
    "def sigmoide(z):\n",
    "    return 1.0 / (1 + np.exp(-z))\n",
    "\n",
    "def costFunctionReg(theta, X, y, alpha):\n",
    "\n",
    "    theta = np.matrix(theta)\n",
    "    X = np.matrix(X)\n",
    "    y = np.matrix(y)\n",
    "\n",
    "    grad0 = np.multiply(-y, np.log(sigmoide(X * theta.T)))\n",
    "    grad1 = np.multiply((1 - y), np.log(1 - sigmoide(X * theta.T)))\n",
    "    reg = (alpha / 2 * len(X)) * np.sum(np.asarray(\n",
    "        theta[:, 1:theta.shape[1]]) ** 2)\n",
    "\n",
    "    return np.sum(grad0 - grad1) / (len(X)) + reg\n",
    "\n",
    "def costFunctionReg(theta, X, y, alpha):\n",
    "\n",
    "    theta = np.matrix(theta)\n",
    "    X = np.matrix(X)\n",
    "    y = np.matrix(y)\n",
    "\n",
    "    grad0 = np.multiply(-y, np.log(sigmoide(X * theta.T)))\n",
    "    grad1 = np.multiply((1 - y), np.log(1 - sigmoide(X * theta.T)))\n",
    "    reg = (alpha / 2 * len(X)) * np.sum(np.asarray(\n",
    "        theta[:, 1:theta.shape[1]]) ** 2)\n",
    "\n",
    "    return np.sum(grad0 - grad1) / (len(X)) + reg\n",
    "\n",
    "\n",
    "dataset = pd.read_csv(\"ex2data2.txt\", header=None,\n",
    "                      names=['teste1', 'teste2', 'resultado'])\n",
    "dataset.insert(0, 'Ones', 1)\n",
    "dataset = np.array(dataset)\n",
    "cols = dataset.shape[1]\n",
    "X = dataset[:, 0:cols - 1]\n",
    "y = dataset[:, cols - 1:]\n",
    "\n",
    "\n",
    "new_x = mapFeature(X)\n",
    "\n",
    "theta = np.zeros(len(new_x.T))\n",
    "\n",
    "custo = costFunctionReg(theta, new_x, y, 1)\n",
    "print(\"Custo para Lambda = 1: \" + str(custo))\n",
    "\n",
    "custo = costFunctionReg(theta, new_x, y, 0)\n",
    "print(\"Custo para Lambda = 0: \" + str(custo))\n",
    "\n",
    "custo = costFunctionReg(theta, new_x, y, 100)\n",
    "print(\"Custo para Lambda = 100: \" + str(custo))"
   ]
  },
  {
   "cell_type": "code",
   "execution_count": 15,
   "metadata": {},
   "outputs": [
    {
     "name": "stdout",
     "output_type": "stream",
     "text": [
      "(array([ 4.02746336e-06,  7.74505598e-07,  6.77686008e-06, -5.97366681e-05,\n",
      "        1.29944304e-05,  2.02021400e-05, -5.55358405e-06,  1.86277964e-05,\n",
      "        2.39942417e-05, -9.20755135e-05, -1.88595841e-05, -5.15808576e-05,\n",
      "       -2.67825062e-05,  3.34052933e-05,  1.21150882e-05,  2.87903290e-05,\n",
      "        9.42426647e-06,  1.70795540e-05, -4.92156536e-06, -4.96692965e-05,\n",
      "       -9.33245209e-07, -1.43280758e-05, -2.55454019e-06,  2.03819692e-05,\n",
      "       -4.28572936e-06,  1.52234523e-05,  2.71916269e-06,  7.80025639e-06]), 107, 1)\n"
     ]
    }
   ],
   "source": [
    "def gradRegLog(theta, X, y, alpha):\n",
    "    theta = np.matrix(theta)\n",
    "    X = np.matrix(X)\n",
    "    y = np.matrix(y)\n",
    "\n",
    "    parametros = int(theta.ravel().shape[1])\n",
    "    grad = np.zeros(parametros)\n",
    "\n",
    "    erro = sigmoide(X * theta.T) - y\n",
    "\n",
    "    for i in range(parametros):\n",
    "        term = np.multiply(erro, X[:, i])\n",
    "\n",
    "        if (i == 0):\n",
    "            grad[i] = np.sum(term) / len(X)\n",
    "        else:\n",
    "            grad[i] = (np.sum(term) / len(X))\n",
    "            + ((alpha / len(X)) * theta[:, i])\n",
    "\n",
    "    return grad\n",
    "\n",
    "\n",
    "# Encontrando os valores ótimos de theta através da função optmize do Scipy,\n",
    "# assim como calculamos para os exercícios da Parte 3\n",
    "opt_theta = opt.fmin_tnc(func=costFunctionReg, x0=theta,\n",
    "                         fprime=gradRegLog, args=(new_x, y, 1))\n",
    "print(opt_theta)"
   ]
  }
 ],
 "metadata": {
  "kernelspec": {
   "display_name": "Python 3",
   "language": "python",
   "name": "python3"
  },
  "language_info": {
   "codemirror_mode": {
    "name": "ipython",
    "version": 3
   },
   "file_extension": ".py",
   "mimetype": "text/x-python",
   "name": "python",
   "nbconvert_exporter": "python",
   "pygments_lexer": "ipython3",
   "version": "3.6.4"
  }
 },
 "nbformat": 4,
 "nbformat_minor": 2
}
