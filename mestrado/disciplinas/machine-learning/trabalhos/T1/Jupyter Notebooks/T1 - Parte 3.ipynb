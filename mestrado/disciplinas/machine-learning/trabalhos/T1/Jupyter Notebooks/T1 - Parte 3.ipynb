{
 "cells": [
  {
   "cell_type": "markdown",
   "metadata": {},
   "source": [
    "# T1 - Parte 3\n",
    "\n",
    "## 3 - Regressão Logística\n",
    "\n",
    "### 3.1 - Visualização dos dados"
   ]
  },
  {
   "cell_type": "code",
   "execution_count": 3,
   "metadata": {},
   "outputs": [
    {
     "data": {
      "image/png": "[encoded data removed]",
      "text/plain": [
       "<Figure size 864x576 with 1 Axes>"
      ]
     },
     "metadata": {},
     "output_type": "display_data"
    }
   ],
   "source": [
    "# Código para exibir o gráfico após execução do bloco\n",
    "%matplotlib inline\n",
    "\n",
    "import numpy as np\n",
    "import pandas as pd\n",
    "import matplotlib.pyplot as plt\n",
    "\n",
    "\n",
    "# Carregando os dados do dataset e armazendo em um array.\n",
    "# Em seguida damos uma rápida visualizada nos dados\n",
    "data = pd.read_csv('ex2data1.txt', header=None,\n",
    "                   names=['Prova 1', 'Prova 2', 'Aprovado'])\n",
    "data.head()\n",
    "\n",
    "# A primeira coluna, preenchida com 1's, represenhta o theta0\n",
    "data.insert(0, 'Ones', 1)\n",
    "\n",
    "# converte de dataframes para arrays\n",
    "cols = data.shape[1]\n",
    "X = data.iloc[:, 0:cols - 1]\n",
    "y = data.iloc[:, cols - 1:cols]\n",
    "\n",
    "# converte de arrays para matrizes\n",
    "X = np.array(X.values)\n",
    "y = np.array(y.values)\n",
    "theta = np.zeros(3)\n",
    "\n",
    "# gerando o gráfico de dispersão para análise preliminar dos dados\n",
    "\n",
    "positivo = data[data['Aprovado'].isin([1])]\n",
    "negativo = data[data['Aprovado'].isin([0])]\n",
    "\n",
    "fig, ax = plt.subplots(figsize=(12, 8))\n",
    "\n",
    "ax.scatter(positivo['Prova 1'], positivo['Prova 2'],\n",
    "           s=50, c='k', marker='+', label='Aprovado')\n",
    "\n",
    "ax.scatter(negativo['Prova 1'], negativo['Prova 2'],\n",
    "           s=50, c='y', marker='o', label='Não Aprovado')\n",
    "ax.legend()\n",
    "ax.set_xlabel('Nota da Prova 1')\n",
    "ax.set_ylabel('Nota da Prova 2')\n",
    "plt.show()"
   ]
  },
  {
   "cell_type": "markdown",
   "metadata": {},
   "source": [
    "### 3.2 - Implementação\n",
    "\n",
    "#### 3.2.1 - Função sigmoide"
   ]
  },
  {
   "cell_type": "code",
   "execution_count": 4,
   "metadata": {},
   "outputs": [
    {
     "name": "stdout",
     "output_type": "stream",
     "text": [
      "0.5\n",
      "1.0\n",
      "0.0\n",
      "[0.5        0.88079708]\n"
     ]
    },
    {
     "name": "stderr",
     "output_type": "stream",
     "text": [
      "c:\\users\\aiqui\\appdata\\local\\programs\\python\\python36\\lib\\site-packages\\ipykernel_launcher.py:2: RuntimeWarning: overflow encountered in exp\n",
      "  \n"
     ]
    }
   ],
   "source": [
    "def sigmoide(z):\n",
    "    return 1.0 / (1 + np.exp(-z))\n",
    "\n",
    "#Testando para 0\n",
    "print(sigmoide(0))\n",
    "\n",
    "#Testando para 1000\n",
    "print(sigmoide(749))\n",
    "\n",
    "#Testando para -1000\n",
    "print(sigmoide(-749))\n",
    "\n",
    "# Testando para vetor\n",
    "print(sigmoide(np.array([0, 2])))"
   ]
  },
  {
   "cell_type": "markdown",
   "metadata": {},
   "source": [
    "#### 3.2.2 - Função de custo e gradiente"
   ]
  },
  {
   "cell_type": "code",
   "execution_count": 5,
   "metadata": {},
   "outputs": [
    {
     "name": "stdout",
     "output_type": "stream",
     "text": [
      "0.6931471805599453\n"
     ]
    }
   ],
   "source": [
    "def normalizar_caracteristicas(X, y):\n",
    "    mean_X = np.mean(X, axis=0)\n",
    "    std_X = np.std(X, axis=0)\n",
    "    X_norm = (X - mean_X) / std_X\n",
    "\n",
    "    mean_y = np.mean(y, axis=0)\n",
    "    std_y = np.std(y, axis=0)\n",
    "    y_norm = (y - mean_y) / std_y\n",
    "\n",
    "    return X_norm, y_norm, mean_X, std_X, mean_y, std_y\n",
    "\n",
    "\n",
    "def custo_reglog(theta, X, y):\n",
    "    theta = np.matrix(theta)\n",
    "    X = np.matrix(X)\n",
    "    y = np.matrix(y)\n",
    "    grad0 = np.multiply(-y, np.log(sigmoide(X * theta.T)))\n",
    "    grad1 = np.multiply((1 - y), np.log(1 - sigmoide(X * theta.T)))\n",
    "    return np.sum(grad0 - grad1) / (len(X))\n",
    "\n",
    "\n",
    "X = data.iloc[:, 1:cols - 1]\n",
    "y = data.iloc[:, cols - 1:cols]\n",
    "\n",
    "X = np.array(X.values)\n",
    "y = np.array(y.values)\n",
    "\n",
    "(examData_norm, labels_norm, mean_examData,\n",
    " std_examData, mean_labels, std_labels) = normalizar_caracteristicas(X, y)\n",
    "\n",
    "examData_norm = np.c_[np.ones((X.shape[0], 1)), examData_norm]\n",
    "\n",
    "theta = np.array([0, 0, 0], ndmin=2)\n",
    "\n",
    "# Chamando essa função com examData_norm trnaposto dá erro de dimensionalidade.\n",
    "# Nas chamadas a essa função na main.py enviada pelo professor ele não passa\n",
    "# a matriz X como transposta\n",
    "J = custo_reglog(theta, examData_norm, labels_norm)\n",
    "\n",
    "print(J)"
   ]
  },
  {
   "cell_type": "markdown",
   "metadata": {},
   "source": [
    "#### 3.2.3 - Aprendizado de parâmetros"
   ]
  },
  {
   "cell_type": "code",
   "execution_count": 6,
   "metadata": {},
   "outputs": [
    {
     "data": {
      "text/plain": [
       "0.20349770158947425"
      ]
     },
     "execution_count": 6,
     "metadata": {},
     "output_type": "execute_result"
    }
   ],
   "source": [
    "import scipy.optimize as opt\n",
    "import numpy as np\n",
    "import pandas as pd\n",
    "\n",
    "def sigmoide(z):\n",
    "    return 1.0 / (1 + np.exp(-z))\n",
    "\n",
    "def custo_reglog(theta, X, y):\n",
    "    theta = np.matrix(theta)\n",
    "    X = np.matrix(X)\n",
    "    y = np.matrix(y)\n",
    "    grad0 = np.multiply(-y, np.log(sigmoide(X * theta.T)))\n",
    "    grad1 = np.multiply((1 - y), np.log(1 - sigmoide(X * theta.T)))\n",
    "    return np.sum(grad0 - grad1) / (len(X))\n",
    "\n",
    "def gd_reglog(theta, X, y):\n",
    "    theta = np.matrix(theta)\n",
    "    X = np.matrix(X)\n",
    "    y = np.matrix(y)\n",
    "\n",
    "    parametros = int(theta.ravel().shape[1])\n",
    "    grad = np.zeros(parametros)\n",
    "\n",
    "    erro = sigmoide(X * theta.T) - y\n",
    "\n",
    "    for i in range(parametros):\n",
    "        term = np.multiply(erro, X[:, i])\n",
    "        grad[i] = np.sum(term) / len(X)\n",
    "\n",
    "    return grad\n",
    "\n",
    "data = pd.read_csv('ex2data1.txt', header=None,\n",
    "                   names=['Prova 1', 'Prova 2', 'Aprovado'])\n",
    "\n",
    "# A primeira coluna, preenchida com 1's, represenhta o theta0\n",
    "data.insert(0, 'Ones', 1)\n",
    "\n",
    "# converte de dataframes para arrays\n",
    "cols = data.shape[1]\n",
    "X = data.iloc[:, 0:cols - 1]\n",
    "y = data.iloc[:, cols - 1:cols]\n",
    "\n",
    "# converte de arrays para matrizes\n",
    "X = np.array(X.values)\n",
    "y = np.array(y.values)\n",
    "theta = np.zeros(3)\n",
    "\n",
    "result = opt.fmin_tnc(func=custo_reglog,\n",
    "                      x0=theta,\n",
    "                      fprime=gd_reglog,\n",
    "                      args=(X, y))\n",
    "custo_reglog(result[0], X, y)"
   ]
  },
  {
   "cell_type": "markdown",
   "metadata": {},
   "source": [
    "#### 3.2.4 - Avaliação do modelo"
   ]
  },
  {
   "cell_type": "code",
   "execution_count": 10,
   "metadata": {},
   "outputs": [
    {
     "name": "stdout",
     "output_type": "stream",
     "text": [
      "Probabilidade:  0.776290625526598\n",
      "Accurácia 89%\n"
     ]
    }
   ],
   "source": [
    "def predizer(theta, X):\n",
    "    probabilidade = sigmoide(X * theta.T)\n",
    "    return [1 if x >= 0.5 else 0 for x in probabilidade]\n",
    "\n",
    "def acuracia(X, theta, result):\n",
    "    theta_min = np.matrix(result[0])\n",
    "    predicoes = predizer(theta_min, X)\n",
    "    corretas = [1 if ((a == 1 and b == 1) or (a == 0 and b == 0)) else 0 for (a, b) in zip(predicoes, y)]\n",
    "    acc = (sum(map(int, corretas)) % len(corretas))\n",
    "    print('Accurácia {0}%'.format(acc))\n",
    "    \n",
    "x1 = np.array([[1.0, 45.0, 85.0]])\n",
    "theta_min = np.matrix(result[0])\n",
    "p = predizer(theta_min, x1)\n",
    "\n",
    "probabilidade = sigmoide(x1 * theta_min.T)\n",
    "print(\"Probabilidade: \", probabilidade[0, 0])\n",
    "\n",
    "acuracia(X, x1, result)"
   ]
  },
  {
   "cell_type": "code",
   "execution_count": null,
   "metadata": {},
   "outputs": [],
   "source": []
  }
 ],
 "metadata": {
  "kernelspec": {
   "display_name": "Python 3",
   "language": "python",
   "name": "python3"
  },
  "language_info": {
   "codemirror_mode": {
    "name": "ipython",
    "version": 3
   },
   "file_extension": ".py",
   "mimetype": "text/x-python",
   "name": "python",
   "nbconvert_exporter": "python",
   "pygments_lexer": "ipython3",
   "version": "3.6.4"
  }
 },
 "nbformat": 4,
 "nbformat_minor": 2
}
