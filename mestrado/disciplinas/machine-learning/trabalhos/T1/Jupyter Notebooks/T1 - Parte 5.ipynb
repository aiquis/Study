{
 "cells": [
  {
   "cell_type": "markdown",
   "metadata": {},
   "source": [
    "# T1 - Parte 5\n",
    "\n",
    "## 5 - Regressão Linear com regularização\n",
    "\n",
    "### 5.1 - Visualização dos Dados"
   ]
  },
  {
   "cell_type": "code",
   "execution_count": 9,
   "metadata": {},
   "outputs": [
    {
     "data": {
      "image/png": "[encoded data removed]",
      "text/plain": [
       "<Figure size 432x288 with 1 Axes>"
      ]
     },
     "metadata": {},
     "output_type": "display_data"
    }
   ],
   "source": [
    "import scipy.io as spio\n",
    "import matplotlib.pyplot as plt\n",
    "import numpy as np\n",
    "from scipy.optimize import minimize\n",
    "\n",
    "\n",
    "# 5.1 - Visualizacao dos dados\n",
    "mat = spio.loadmat('ex5data1.mat', squeeze_me=True)\n",
    "\n",
    "X = mat['X']\n",
    "y = mat['y']\n",
    "\n",
    "Xtest = mat['Xtest']\n",
    "ytest = mat['ytest']\n",
    "\n",
    "Xval = mat['Xval']\n",
    "yval = mat['yval']\n",
    "\n",
    "plt.scatter(X, y, color='red', marker='x')\n",
    "plt.xlabel('Change in water level (x)')\n",
    "plt.ylabel('Water flowing out of the dam (y)')\n",
    "plt.show()"
   ]
  },
  {
   "cell_type": "markdown",
   "metadata": {},
   "source": [
    "### 5.2 - Função de custo da regressão linear regularizada"
   ]
  },
  {
   "cell_type": "code",
   "execution_count": 10,
   "metadata": {},
   "outputs": [
    {
     "name": "stdout",
     "output_type": "stream",
     "text": [
      "303.9515255535976\n"
     ]
    }
   ],
   "source": [
    "# 5.2 - Funcao de custo da regressao linear regularizada\n",
    "\n",
    "def linearRegCostFunction(theta, X, y, lamb):\n",
    "    m = len(X)\n",
    "\n",
    "    custo = ((1 / (2 * m)) * np.sum((X.dot(theta) - y) ** 2) +\n",
    "             (lamb / (2 * m)) * np.sum(theta[1:]) ** 2)\n",
    "\n",
    "    return custo\n",
    "\n",
    "\n",
    "X_ones = np.c_[np.ones((X.shape[0], 1)), X]\n",
    "\n",
    "theta = np.ones(2)\n",
    "custo = linearRegCostFunction(theta, X_ones, y, 0)\n",
    "print(custo)"
   ]
  },
  {
   "cell_type": "markdown",
   "metadata": {},
   "source": [
    "### 5.3 - Gradiente na regressão linear regularizada"
   ]
  },
  {
   "cell_type": "code",
   "execution_count": 11,
   "metadata": {},
   "outputs": [
    {
     "name": "stdout",
     "output_type": "stream",
     "text": [
      "[-15.30301567 598.16741084]\n"
     ]
    }
   ],
   "source": [
    "def linearRegGrad(theta, X, y, lamb):\n",
    "    m = len(y)\n",
    "\n",
    "    h = X.dot(theta)\n",
    "\n",
    "    loss = h - y\n",
    "\n",
    "    gradient = ((1 / m) * (X.T.dot(loss)) +\n",
    "                (lamb / m) * theta[1:])\n",
    "\n",
    "    return gradient\n",
    "\n",
    "grad = linearRegGrad(theta, X_ones, y, 0)\n",
    "print(grad)"
   ]
  },
  {
   "cell_type": "markdown",
   "metadata": {},
   "source": [
    "### 5.4 - Ajustando os parâmetros da regressão linear"
   ]
  },
  {
   "cell_type": "code",
   "execution_count": 12,
   "metadata": {},
   "outputs": [
    {
     "name": "stdout",
     "output_type": "stream",
     "text": [
      "[13.08790353  0.36777923]\n"
     ]
    },
    {
     "data": {
      "image/png": "[encoded data removed]",
      "text/plain": [
       "<Figure size 432x288 with 1 Axes>"
      ]
     },
     "metadata": {},
     "output_type": "display_data"
    }
   ],
   "source": [
    "def trainLinearReg(theta, X, y, lamb):\n",
    "    # initial_theta = np.zeros((X.shape[1],1))\n",
    "    # initial_theta = np.array([[15], [15]])\n",
    "\n",
    "    res = minimize(fun=linearRegCostFunction, x0=theta,\n",
    "                   args=(X, y, lamb), method=None, jac=linearRegGrad,\n",
    "                   options={'maxiter': 5000})\n",
    "\n",
    "    return(res.x)\n",
    "\n",
    "opt_theta = trainLinearReg(theta, X_ones, y, 0)\n",
    "print(opt_theta)\n",
    "\n",
    "grad = grad.T\n",
    "t = np.linspace(X.min(), X.max())\n",
    "h = np.c_[np.ones(t.shape[0]), t].dot(grad)\n",
    "\n",
    "plt.scatter(X, y, marker='x', color='red')\n",
    "# Corrigir para receber os parâmetros de theta otimizados\n",
    "plt.plot(t, opt_theta[0] + (opt_theta[1] * t), color='blue',\n",
    "         label='Linear Regression')\n",
    "plt.axis([-50, 40, -5, 40])\n",
    "plt.xlabel('Change in water level (x)')\n",
    "plt.ylabel('Water flowing out of the dam (y)')\n",
    "plt.show()"
   ]
  }
 ],
 "metadata": {
  "kernelspec": {
   "display_name": "Python 3",
   "language": "python",
   "name": "python3"
  },
  "language_info": {
   "codemirror_mode": {
    "name": "ipython",
    "version": 3
   },
   "file_extension": ".py",
   "mimetype": "text/x-python",
   "name": "python",
   "nbconvert_exporter": "python",
   "pygments_lexer": "ipython3",
   "version": "3.6.4"
  }
 },
 "nbformat": 4,
 "nbformat_minor": 2
}
